{
 "cells": [
  {
   "cell_type": "code",
   "execution_count": 1,
   "metadata": {},
   "outputs": [],
   "source": [
    "import pandas as pd\n",
    "import scipy as sp\n",
    "import numpy as np"
   ]
  },
  {
   "cell_type": "code",
   "execution_count": 2,
   "metadata": {},
   "outputs": [],
   "source": [
    "CP_data_1 = sp.io.loadmat('../CP_data/1-46_CP_data.mat')\n",
    "CP_data_2 = sp.io.loadmat('../CP_data/51-100_CP_data.mat')\n",
    "CP_data_3 = sp.io.loadmat('../CP_data/101-166_CP_data.mat')\n",
    "CP_data_4 = sp.io.loadmat('../CP_data/168-178_CP_data.mat')"
   ]
  },
  {
   "cell_type": "code",
   "execution_count": 3,
   "metadata": {},
   "outputs": [
    {
     "data": {
      "text/plain": [
       "dict_keys(['__header__', '__version__', '__globals__', 'CP', 'Grand_CP', 'grandcpboot', 'new_paths', 'p_values'])"
      ]
     },
     "execution_count": 3,
     "metadata": {},
     "output_type": "execute_result"
    }
   ],
   "source": [
    "CP_data_1.keys()"
   ]
  },
  {
   "cell_type": "code",
   "execution_count": 4,
   "metadata": {},
   "outputs": [],
   "source": [
    "CP_1 = CP_data_1.get('CP')\n",
    "Grand_CP_1 = CP_data_1.get('Grand_CP')\n",
    "grandcpboot_1 = CP_data_1.get('grandcpboot')\n",
    "p_values_1 = CP_data_1.get('p_values')\n",
    "data_paths_1 = CP_data_1.get('new_paths')"
   ]
  },
  {
   "cell_type": "code",
   "execution_count": 5,
   "metadata": {},
   "outputs": [],
   "source": [
    "CP_2 = CP_data_2.get('CP')\n",
    "Grand_CP_2 = CP_data_2.get('Grand_CP')\n",
    "grandcpboot_2 = CP_data_2.get('grandcpboot')\n",
    "p_values_2 = CP_data_2.get('p_values')\n",
    "data_paths_2 = CP_data_2.get('new_paths')"
   ]
  },
  {
   "cell_type": "code",
   "execution_count": 6,
   "metadata": {},
   "outputs": [],
   "source": [
    "CP_3 = CP_data_3.get('CP')\n",
    "Grand_CP_3 = CP_data_3.get('Grand_CP')\n",
    "grandcpboot_3 = CP_data_3.get('grandcpboot')\n",
    "p_values_3 = CP_data_3.get('p_values')\n",
    "data_paths_3 = CP_data_3.get('new_paths')"
   ]
  },
  {
   "cell_type": "code",
   "execution_count": 7,
   "metadata": {},
   "outputs": [],
   "source": [
    "CP_4 = CP_data_4.get('CP')\n",
    "Grand_CP_4 = CP_data_4.get('Grand_CP')\n",
    "grandcpboot_4 = CP_data_4.get('grandcpboot')\n",
    "p_values_4 = CP_data_4.get('p_values')\n",
    "data_paths_4 = CP_data_4.get('new_paths')"
   ]
  },
  {
   "attachments": {},
   "cell_type": "markdown",
   "metadata": {},
   "source": [
    "Now that data is extracted let look at the Grand CP Histograms of the 200 ms duration tone in noise. Split them into seperate histos for IC and CN.  "
   ]
  },
  {
   "cell_type": "code",
   "execution_count": 8,
   "metadata": {},
   "outputs": [],
   "source": [
    "# Initial Split and concat grand cp values into seperate IC and CN df's\n",
    "# column 16 (index 15) is the 200 ms condition \n",
    "# Group 1 -- 1- 46 is all IC ,  \n",
    "# Group 2 --  51 - 100 is all IC , \n",
    "# Group 3 --  101-166 is first 2 IC and the rest CN,\n",
    "# Group 4 --  168-178 is all CN\n",
    "\n",
    "# IC values \n",
    "IC_value_list = []\n",
    "\n",
    "for row in range(0,len(Grand_CP_1[:,15])):\n",
    "    if (type(Grand_CP_1[:,15][row][0]) == np.ndarray) & (len(Grand_CP_1[:,15][row][0]) > 0):\n",
    "         value = Grand_CP_1[:,15][row][0,0]   \n",
    "    else:\n",
    "         value = Grand_CP_1[:,15][row][0]\n",
    "\n",
    "    IC_value_list.append(value)\n",
    "\n",
    "for row in range(0,len(Grand_CP_2[:,15])):\n",
    "    if (type(Grand_CP_2[:,15][row][0]) == np.ndarray) & (len(Grand_CP_2[:,15][row][0]) > 0): # this handles the NA values\n",
    "         value = Grand_CP_2[:,15][row][0,0]   \n",
    "    else:\n",
    "         value = Grand_CP_2[:,15][row][0]\n",
    "\n",
    "    IC_value_list.append(value)\n",
    "\n",
    "for row in range(0,2):# Grab the first 2 IC's from the 3rd group\n",
    "    if (type(Grand_CP_3[:,15][row][0]) == np.ndarray) & (len(Grand_CP_3[:,15][row][0]) > 0):\n",
    "         value = Grand_CP_3[:,15][row][0,0]   \n",
    "    else:\n",
    "         value = Grand_CP_3[:,15][row][0]\n",
    "\n",
    "    IC_value_list.append(value)\n",
    "\n"
   ]
  },
  {
   "cell_type": "code",
   "execution_count": 9,
   "metadata": {},
   "outputs": [],
   "source": [
    "# CN values \n",
    "CN_value_list = []\n",
    "for row in range(2,len(Grand_CP_3[:,15])):#Exclude the first 2 rows that are IC \n",
    "    if (type(Grand_CP_3[:,15][row][0]) == np.ndarray) & (len(Grand_CP_3[:,15][row][0]) > 0):\n",
    "         value = Grand_CP_3[:,15][row][0,0]   \n",
    "    else:\n",
    "         value = Grand_CP_3[:,15][row][0]\n",
    "\n",
    "    CN_value_list.append(value)    \n",
    "\n",
    "for row in range(0,len(Grand_CP_4[:,15])):\n",
    "    if (type(Grand_CP_4[:,15][row][0]) == np.ndarray) & (len(Grand_CP_4[:,15][row][0]) > 0): # this handles the NA values\n",
    "         value = Grand_CP_4[:,15][row][0,0]   \n",
    "    else:\n",
    "         value = Grand_CP_4[:,15][row][0]\n",
    "\n",
    "    CN_value_list.append(value)   "
   ]
  },
  {
   "attachments": {},
   "cell_type": "markdown",
   "metadata": {},
   "source": [
    "Now we have 2 list for the 200ms tone column for IC and CN, lets filter out NA or empty data and plot the histograms"
   ]
  },
  {
   "cell_type": "code",
   "execution_count": 10,
   "metadata": {},
   "outputs": [],
   "source": [
    "import matplotlib.pyplot as plt\n",
    "import seaborn as sns"
   ]
  },
  {
   "cell_type": "code",
   "execution_count": 11,
   "metadata": {},
   "outputs": [],
   "source": [
    "#Filter the lists fro NA's and emptys and turn them into pd.DataFrame\n",
    "IC_df = pd.DataFrame(IC_value_list, columns=['200_ms_Tone_Grand_CP'])\n",
    "CN_df = pd.DataFrame(CN_value_list, columns=['200_ms_Tone_Grand_CP'])"
   ]
  },
  {
   "cell_type": "code",
   "execution_count": 12,
   "metadata": {},
   "outputs": [],
   "source": [
    "for row in range(0,len(IC_df)):\n",
    "    if (type(IC_df['200_ms_Tone_Grand_CP'][row]) == np.ndarray) | (type(IC_df['200_ms_Tone_Grand_CP'][row]) == np.str_):\n",
    "        IC_df['200_ms_Tone_Grand_CP'][row] = np.nan\n",
    "\n",
    "for row in range(0,len(CN_df)):\n",
    "    if (type(CN_df['200_ms_Tone_Grand_CP'][row]) == np.ndarray) | (type(CN_df['200_ms_Tone_Grand_CP'][row]) == np.str_):\n",
    "        CN_df['200_ms_Tone_Grand_CP'][row] = np.nan\n"
   ]
  },
  {
   "cell_type": "code",
   "execution_count": 13,
   "metadata": {},
   "outputs": [
    {
     "name": "stdout",
     "output_type": "stream",
     "text": [
      "95 59\n"
     ]
    }
   ],
   "source": [
    "# Count the NA values to get total number of Units for IC and CN\n",
    "total_units_IC = len(IC_df.dropna())\n",
    "total_units_CN = len(CN_df.dropna())\n",
    "print(total_units_IC, total_units_CN)"
   ]
  },
  {
   "cell_type": "code",
   "execution_count": 14,
   "metadata": {},
   "outputs": [
    {
     "data": {
      "image/png": "[encoded data removed]",
      "text/plain": [
       "<Figure size 750x350 with 2 Axes>"
      ]
     },
     "metadata": {},
     "output_type": "display_data"
    }
   ],
   "source": [
    "plt.rcParams[\"figure.figsize\"] = [7.50, 3.50]\n",
    "plt.rcParams[\"figure.autolayout\"] = True\n",
    "\n",
    "fig, axes = plt.subplots(1, 2)\n",
    "axes[0].set_xlim([0,1])\n",
    "axes[0].set_ylim([0,20])\n",
    "axes[0].set_xlabel('Detect Probability')\n",
    "axes[1].set_xlim([0,1])\n",
    "axes[1].set_ylim([0,20])\n",
    "axes[1].set_xlabel('Detect Probability')\n",
    "\n",
    "# IC Histogram\n",
    "axes[0].set_title('IC - 95 Units')\n",
    "sns.histplot(ax = axes[0],\n",
    "             data = IC_df,\n",
    "             binwidth = .05,\n",
    "             legend = False\n",
    "            )\n",
    "\n",
    "\n",
    "\n",
    "# CN Histogram\n",
    "axes[1].set_title('CN - 59 Units')\n",
    "sns.histplot(ax = axes[1],\n",
    "             data = CN_df,\n",
    "             binwidth = .05,\n",
    "             legend = False\n",
    "            )\n",
    "\n",
    "plt.show()"
   ]
  }
 ],
 "metadata": {
  "kernelspec": {
   "display_name": "base",
   "language": "python",
   "name": "python3"
  },
  "language_info": {
   "codemirror_mode": {
    "name": "ipython",
    "version": 3
   },
   "file_extension": ".py",
   "mimetype": "text/x-python",
   "name": "python",
   "nbconvert_exporter": "python",
   "pygments_lexer": "ipython3",
   "version": "3.9.12"
  },
  "orig_nbformat": 4,
  "vscode": {
   "interpreter": {
    "hash": "08210294964727e4010dccc398c44f22b92a2e77e2aceea574ad21eae77cd8e8"
   }
  }
 },
 "nbformat": 4,
 "nbformat_minor": 2
}
