{
 "cells": [
  {
   "cell_type": "code",
   "execution_count": 1,
   "metadata": {},
   "outputs": [],
   "source": [
    "import pandas as pd\n",
    "import scipy as sp\n",
    "import numpy as np"
   ]
  },
  {
   "cell_type": "code",
   "execution_count": 6,
   "metadata": {},
   "outputs": [],
   "source": [
    "CP_data_1 = sp.io.loadmat('../CP_data/1-46_CP_data.mat')\n",
    "CP_data_2 = sp.io.loadmat('../CP_data/51-100_CP_data.mat')\n",
    "CP_data_3 = sp.io.loadmat('../CP_data/101-166_CP_data.mat')\n",
    "CP_data_4 = sp.io.loadmat('../CP_data/168-178_CP_data.mat')"
   ]
  },
  {
   "cell_type": "code",
   "execution_count": 4,
   "metadata": {},
   "outputs": [
    {
     "data": {
      "text/plain": [
       "dict_keys(['__header__', '__version__', '__globals__', 'CP', 'Grand_CP', 'grandcpboot', 'new_paths', 'p_values'])"
      ]
     },
     "execution_count": 4,
     "metadata": {},
     "output_type": "execute_result"
    }
   ],
   "source": [
    "CP_data_1.keys()"
   ]
  },
  {
   "cell_type": "code",
   "execution_count": 7,
   "metadata": {},
   "outputs": [],
   "source": [
    "CP_1 = CP_data_1.get('CP')\n",
    "Grand_CP_1 = CP_data_1.get('Grand_CP')\n",
    "grandcpboot_1 = CP_data_1.get('grandcpboot')\n",
    "p_values_1 = CP_data_1.get('p_values')\n",
    "data_paths_1 = CP_data_1.get('new_paths')"
   ]
  },
  {
   "cell_type": "code",
   "execution_count": 8,
   "metadata": {},
   "outputs": [],
   "source": [
    "CP_2 = CP_data_2.get('CP')\n",
    "Grand_CP_2 = CP_data_2.get('Grand_CP')\n",
    "grandcpboot_2 = CP_data_2.get('grandcpboot')\n",
    "p_values_2 = CP_data_2.get('p_values')\n",
    "data_paths_2 = CP_data_2.get('new_paths')"
   ]
  },
  {
   "cell_type": "code",
   "execution_count": 9,
   "metadata": {},
   "outputs": [],
   "source": [
    "CP_3 = CP_data_3.get('CP')\n",
    "Grand_CP_3 = CP_data_3.get('Grand_CP')\n",
    "grandcpboot_3 = CP_data_3.get('grandcpboot')\n",
    "p_values_3 = CP_data_3.get('p_values')\n",
    "data_paths_3 = CP_data_3.get('new_paths')"
   ]
  },
  {
   "cell_type": "code",
   "execution_count": 10,
   "metadata": {},
   "outputs": [],
   "source": [
    "CP_4 = CP_data_4.get('CP')\n",
    "Grand_CP_4 = CP_data_4.get('Grand_CP')\n",
    "grandcpboot_4 = CP_data_4.get('grandcpboot')\n",
    "p_values_4 = CP_data_4.get('p_values')\n",
    "data_paths_4 = CP_data_4.get('new_paths')"
   ]
  },
  {
   "cell_type": "code",
   "execution_count": null,
   "metadata": {},
   "outputs": [],
   "source": []
  }
 ],
 "metadata": {
  "kernelspec": {
   "display_name": "base",
   "language": "python",
   "name": "python3"
  },
  "language_info": {
   "codemirror_mode": {
    "name": "ipython",
    "version": 3
   },
   "file_extension": ".py",
   "mimetype": "text/x-python",
   "name": "python",
   "nbconvert_exporter": "python",
   "pygments_lexer": "ipython3",
   "version": "3.9.12"
  },
  "orig_nbformat": 4,
  "vscode": {
   "interpreter": {
    "hash": "08210294964727e4010dccc398c44f22b92a2e77e2aceea574ad21eae77cd8e8"
   }
  }
 },
 "nbformat": 4,
 "nbformat_minor": 2
}
