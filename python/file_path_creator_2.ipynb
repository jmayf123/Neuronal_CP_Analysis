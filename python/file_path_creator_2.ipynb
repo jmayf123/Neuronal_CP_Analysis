{
 "cells": [
  {
   "cell_type": "code",
   "execution_count": 4,
   "metadata": {},
   "outputs": [],
   "source": [
    "import pandas as pd\n",
    "import re\n",
    "import csv"
   ]
  },
  {
   "cell_type": "code",
   "execution_count": 5,
   "metadata": {},
   "outputs": [],
   "source": [
    "timn_blocks_df = pd.read_csv('../data/timn_blocks.csv')"
   ]
  },
  {
   "cell_type": "code",
   "execution_count": 6,
   "metadata": {},
   "outputs": [],
   "source": [
    "tank_number = re.findall('.+(?=.$)', timn_blocks_df['Tank'][0])[0]\n",
    "tank_number_letter = timn_blocks_df['Tank'][0]\n",
    "OurData = re.findall('(?<=^.).*', timn_blocks_df['Block'][0])[0]\n",
    "location = timn_blocks_df['Location'][0]"
   ]
  },
  {
   "cell_type": "code",
   "execution_count": 7,
   "metadata": {},
   "outputs": [],
   "source": [
    "paths_list = []\n",
    "\n",
    "for index, row in timn_blocks_df.iterrows():\n",
    "\n",
    "    tank_number = re.findall('\\d+', row['Tank'])[0]\n",
    "    tank_number_letter = row['Tank']\n",
    "    OurData = re.findall('(?<=^.).*', row['Block'])[0]\n",
    "    location = row['Location']\n",
    "\n",
    "    if re.findall('(.)$', row['Tank'])[0] == 'a':\n",
    "        row_path = f\"Z:/Alpha data/Neurobehavior/{location}/ex{tank_number}/{tank_number_letter}/{OurData}\"\n",
    "\n",
    "    elif re.findall('(.)$', row['Tank'])[0] == 'b':\n",
    "        row_path = f\"Z:/Bravo data/Neurobehavior/{location}/ex{tank_number}/{tank_number_letter}/{OurData}\"\n",
    "    \n",
    "    elif re.findall('(.)$', row['Tank'])[0] == 'c':\n",
    "        row_path = f\"Z:/Charlie data/Neurobehavior/{location}/ex{tank_number}/{tank_number_letter}/{OurData}\"\n",
    "    \n",
    "    elif re.findall('(.)$', row['Tank'])[0] == 'd':\n",
    "        row_path = f\"Z:/Delta data/Neurobehavior/{location}/ex{tank_number}/{tank_number_letter}/{OurData}\"\n",
    "\n",
    "    elif re.findall('(.)$', row['Tank'])[0] == 'e':\n",
    "        row_path = f\"Z:/Echo data/Neurobehavior/{location}/ex{tank_number}/{tank_number_letter}/{OurData}\"\n",
    "\n",
    "    paths_list.append(row_path)"
   ]
  },
  {
   "cell_type": "code",
   "execution_count": 8,
   "metadata": {},
   "outputs": [],
   "source": [
    "with open('../data/timn_paths_list.csv', 'w', newline='') as csvfile:\n",
    "    writer = csv.writer(csvfile)\n",
    "    writer.writerow(paths_list)"
   ]
  },
  {
   "cell_type": "code",
   "execution_count": 9,
   "metadata": {},
   "outputs": [
    {
     "data": {
      "text/plain": [
       "['Z:/Alpha data/Neurobehavior/IC/ex100917/tank100917a/OurData-6',\n",
       " 'Z:/Alpha data/Neurobehavior/IC/ex101021/tank101021a/OurData-8',\n",
       " 'Z:/Alpha data/Neurobehavior/IC/ex101022/tank101022a/OurData-9',\n",
       " 'Z:/Alpha data/Neurobehavior/IC/ex101025/tank101025a/OurData-10',\n",
       " 'Z:/Alpha data/Neurobehavior/IC/ex101026/tank101026a/OurData-8',\n",
       " 'Z:/Alpha data/Neurobehavior/IC/ex101027/tank101027a/OurData-9',\n",
       " 'Z:/Alpha data/Neurobehavior/IC/ex101105/tank101105a/OurData-10',\n",
       " 'Z:/Alpha data/Neurobehavior/IC/ex101117/tank101117a/OurData-16',\n",
       " 'Z:/Alpha data/Neurobehavior/IC/ex110120/tank110120a/OurData-14',\n",
       " 'Z:/Alpha data/Neurobehavior/IC/ex110121/tank110121a/OurData-12',\n",
       " 'Z:/Alpha data/Neurobehavior/IC/ex110125/tank110125a/OurData-8',\n",
       " 'Z:/Alpha data/Neurobehavior/IC/ex110126/tank110126a/OurData-9',\n",
       " 'Z:/Alpha data/Neurobehavior/IC/ex110127/tank110127a/OurData-7',\n",
       " 'Z:/Alpha data/Neurobehavior/IC/ex110128/tank110128a/OurData-7',\n",
       " 'Z:/Alpha data/Neurobehavior/IC/ex110322/tank110322a/OurData-11',\n",
       " 'Z:/Alpha data/Neurobehavior/IC/ex110323/tank110323a/OurData-9',\n",
       " 'Z:/Alpha data/Neurobehavior/IC/ex110324/tank110324a/OurData-7',\n",
       " 'Z:/Alpha data/Neurobehavior/IC/ex110325/tank110325a/OurData-9',\n",
       " 'Z:/Alpha data/Neurobehavior/IC/ex110328/tank110328a/OurData-9',\n",
       " 'Z:/Alpha data/Neurobehavior/IC/ex110330/tank110330a/OurData-10',\n",
       " 'Z:/Alpha data/Neurobehavior/IC/ex110331/tank110331a/OurData-10',\n",
       " 'Z:/Alpha data/Neurobehavior/IC/ex110401/tank110401a/OurData-8',\n",
       " 'Z:/Alpha data/Neurobehavior/IC/ex110407/tank110407a/OurData-9',\n",
       " 'Z:/Alpha data/Neurobehavior/IC/ex110408/tank110408a/OurData-12',\n",
       " 'Z:/Alpha data/Neurobehavior/IC/ex110411/tank110411a/OurData-10',\n",
       " 'Z:/Alpha data/Neurobehavior/IC/ex110412/tank110412a/OurData-14',\n",
       " 'Z:/Alpha data/Neurobehavior/IC/ex110413/tank110413a/OurData-11',\n",
       " 'Z:/Alpha data/Neurobehavior/IC/ex110520/tank110520a/OurData-8',\n",
       " 'Z:/Alpha data/Neurobehavior/IC/ex110606/tank110606a/OurData-8',\n",
       " 'Z:/Bravo data/Neurobehavior/IC/ex100310/tank100310b/OurData-11',\n",
       " 'Z:/Bravo data/Neurobehavior/IC/ex100712/tank100712b/OurData-8',\n",
       " 'Z:/Bravo data/Neurobehavior/IC/ex100713/tank100713b/OurData-12',\n",
       " 'Z:/Bravo data/Neurobehavior/IC/ex100721/tank100721b/OurData-5',\n",
       " 'Z:/Bravo data/Neurobehavior/IC/ex100804/tank100804b/OurData-4',\n",
       " 'Z:/Bravo data/Neurobehavior/IC/ex100818/tank100818b/OurData-10',\n",
       " 'Z:/Bravo data/Neurobehavior/IC/ex100916/tank100916b/OurData-4',\n",
       " 'Z:/Bravo data/Neurobehavior/IC/ex101015/tank101015b/OurData-10',\n",
       " 'Z:/Bravo data/Neurobehavior/IC/ex101101/tank101101b/OurData-10',\n",
       " 'Z:/Charlie data/Neurobehavior/IC/ex130625/tank130625c/OurData-5',\n",
       " 'Z:/Charlie data/Neurobehavior/IC/ex130628/tank130628c/OurData-6',\n",
       " 'Z:/Charlie data/Neurobehavior/IC/ex130701/tank130701c/OurData-7',\n",
       " 'Z:/Charlie data/Neurobehavior/IC/ex130828/tank130828c/OurData-13',\n",
       " 'Z:/Charlie data/Neurobehavior/IC/ex130923/tank130923c/OurData-9',\n",
       " 'Z:/Delta data/Neurobehavior/IC/ex130716/tank130716d/OurData-12',\n",
       " 'Z:/Delta data/Neurobehavior/IC/ex130926/tank130926d/OurData-7',\n",
       " 'Z:/Echo data/Neurobehavior/IC/ex140325/tank140325e/OurData-8',\n",
       " 'Z:/Delta data/Neurobehavior/IC/ex120824/tank120824d/OurData-12',\n",
       " 'Z:/Delta data/Neurobehavior/IC/ex120907/tank120907d/OurData-5',\n",
       " 'Z:/Delta data/Neurobehavior/IC/ex120911/tank120911d/OurData-4',\n",
       " 'Z:/Delta data/Neurobehavior/IC/ex120914/tank120914d/OurData-4',\n",
       " 'Z:/Delta data/Neurobehavior/IC/ex120924/tank120924d/OurData-10',\n",
       " 'Z:/Delta data/Neurobehavior/IC/ex120927/tank120927d/OurData-4',\n",
       " 'Z:/Delta data/Neurobehavior/IC/ex121004/tank121004d/OurData-7',\n",
       " 'Z:/Delta data/Neurobehavior/IC/ex121012/tank121012d/OurData-5',\n",
       " 'Z:/Delta data/Neurobehavior/IC/ex121016/tank121016d/OurData-5',\n",
       " 'Z:/Delta data/Neurobehavior/IC/ex121017/tank121017d/OurData-5',\n",
       " 'Z:/Delta data/Neurobehavior/IC/ex121018/tank121018d/OurData-7',\n",
       " 'Z:/Delta data/Neurobehavior/IC/ex121019/tank121019d/OurData-4',\n",
       " 'Z:/Delta data/Neurobehavior/IC/ex121030/tank121030d/OurData-6',\n",
       " 'Z:/Delta data/Neurobehavior/IC/ex121101/tank121101d/OurData-4',\n",
       " 'Z:/Delta data/Neurobehavior/IC/ex121106/tank121106d/OurData-7',\n",
       " 'Z:/Delta data/Neurobehavior/IC/ex121108/tank121108d/OurData-8',\n",
       " 'Z:/Delta data/Neurobehavior/IC/ex121113/tank121113d/OurData-9',\n",
       " 'Z:/Delta data/Neurobehavior/IC/ex121115/tank121115d/OurData-8',\n",
       " 'Z:/Delta data/Neurobehavior/IC/ex121204/tank121204d/OurData-7',\n",
       " 'Z:/Delta data/Neurobehavior/IC/ex121206/tank121206d/OurData-8',\n",
       " 'Z:/Delta data/Neurobehavior/IC/ex121212/tank121212d/OurData-7',\n",
       " 'Z:/Delta data/Neurobehavior/IC/ex130110/tank130110d/OurData-8',\n",
       " 'Z:/Delta data/Neurobehavior/IC/ex130114/tank130114d/OurData-5',\n",
       " 'Z:/Delta data/Neurobehavior/IC/ex130116/tank130116d/OurData-5',\n",
       " 'Z:/Charlie data/Neurobehavior/IC/ex130118/tank130118c/OurData-6',\n",
       " 'Z:/Charlie data/Neurobehavior/IC/ex130215/tank130215c/OurData-11',\n",
       " 'Z:/Charlie data/Neurobehavior/IC/ex130227/tank130227c/OurData-7',\n",
       " 'Z:/Bravo data/Neurobehavior/CN/ex110323/tank110323b/OurData-9',\n",
       " 'Z:/Bravo data/Neurobehavior/CN/ex110328/tank110328b/OurData-8',\n",
       " 'Z:/Bravo data/Neurobehavior/CN/ex110330/tank110330b/OurData-8',\n",
       " 'Z:/Bravo data/Neurobehavior/CN/ex110401/tank110401b/OurData-16',\n",
       " 'Z:/Bravo data/Neurobehavior/CN/ex110404/tank110404b/OurData-9',\n",
       " 'Z:/Bravo data/Neurobehavior/CN/ex110406/tank110406b/OurData-9',\n",
       " 'Z:/Bravo data/Neurobehavior/CN/ex110407/tank110407b/OurData-8',\n",
       " 'Z:/Bravo data/Neurobehavior/CN/ex110412/tank110412b/OurData-16',\n",
       " 'Z:/Bravo data/Neurobehavior/CN/ex110413/tank110413b/OurData-12',\n",
       " 'Z:/Bravo data/Neurobehavior/CN/ex110420/tank110420b/OurData-11',\n",
       " 'Z:/Bravo data/Neurobehavior/CN/ex110421/tank110421b/OurData-12',\n",
       " 'Z:/Bravo data/Neurobehavior/CN/ex110602/tank110602b/OurData-9',\n",
       " 'Z:/Bravo data/Neurobehavior/CN/ex110610/tank110610b/OurData-9',\n",
       " 'Z:/Bravo data/Neurobehavior/CN/ex110729/tank110729b/OurData-12',\n",
       " 'Z:/Bravo data/Neurobehavior/CN/ex110805/tank110805b/OurData-12',\n",
       " 'Z:/Alpha data/Neurobehavior/CN/ex110808/tank110808a/OurData-9',\n",
       " 'Z:/Bravo data/Neurobehavior/CN/ex110808/tank110808b/OurData-7',\n",
       " 'Z:/Alpha data/Neurobehavior/CN/ex110811/tank110811a/OurData-7',\n",
       " 'Z:/Alpha data/Neurobehavior/CN/ex110815/tank110815a/OurData-8',\n",
       " 'Z:/Bravo data/Neurobehavior/CN/ex110830/tank110830b/OurData-11',\n",
       " 'Z:/Alpha data/Neurobehavior/CN/ex110907/tank110907a/OurData-7',\n",
       " 'Z:/Alpha data/Neurobehavior/CN/ex110909/tank110909a/OurData-9',\n",
       " 'Z:/Alpha data/Neurobehavior/CN/ex110919/tank110919a/OurData-7',\n",
       " 'Z:/Bravo data/Neurobehavior/CN/ex111006/tank111006b/OurData-9',\n",
       " 'Z:/Bravo data/Neurobehavior/CN/ex111007/tank111007b/OurData-8',\n",
       " 'Z:/Bravo data/Neurobehavior/CN/ex111010/tank111010b/OurData-10',\n",
       " 'Z:/Bravo data/Neurobehavior/CN/ex111012/tank111012b/OurData-8',\n",
       " 'Z:/Alpha data/Neurobehavior/CN/ex111019/tank111019a/OurData-11',\n",
       " 'Z:/Delta data/Neurobehavior/CN/ex140318/tank140318d/OurData-12',\n",
       " 'Z:/Delta data/Neurobehavior/CN/ex140325/tank140325d/OurData-5',\n",
       " 'Z:/Delta data/Neurobehavior/CN/ex140326/tank140326d/OurData-7',\n",
       " 'Z:/Delta data/Neurobehavior/CN/ex140409/tank140409d/OurData-14',\n",
       " 'Z:/Delta data/Neurobehavior/CN/ex140716/tank140716d/OurData-9',\n",
       " 'Z:/Charlie data/Neurobehavior/CN/ex141111/tank141111c/OurData-8',\n",
       " 'Z:/Charlie data/Neurobehavior/CN/ex141121/tank141121c/OurData-9',\n",
       " 'Z:/Delta data/Neurobehavior/CN/ex141201/tank141201d/OurData-14']"
      ]
     },
     "execution_count": 9,
     "metadata": {},
     "output_type": "execute_result"
    }
   ],
   "source": [
    "paths_list"
   ]
  }
 ],
 "metadata": {
  "kernelspec": {
   "display_name": "base",
   "language": "python",
   "name": "python3"
  },
  "language_info": {
   "codemirror_mode": {
    "name": "ipython",
    "version": 3
   },
   "file_extension": ".py",
   "mimetype": "text/x-python",
   "name": "python",
   "nbconvert_exporter": "python",
   "pygments_lexer": "ipython3",
   "version": "3.9.12"
  },
  "orig_nbformat": 4,
  "vscode": {
   "interpreter": {
    "hash": "08210294964727e4010dccc398c44f22b92a2e77e2aceea574ad21eae77cd8e8"
   }
  }
 },
 "nbformat": 4,
 "nbformat_minor": 2
}
