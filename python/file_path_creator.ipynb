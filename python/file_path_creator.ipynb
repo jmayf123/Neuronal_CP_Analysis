{
 "cells": [
  {
   "cell_type": "code",
   "execution_count": 1,
   "metadata": {},
   "outputs": [],
   "source": [
    "import pandas as pd\n",
    "import re"
   ]
  },
  {
   "cell_type": "code",
   "execution_count": 2,
   "metadata": {},
   "outputs": [],
   "source": [
    "tin_blocks_df = pd.read_csv('../data/tin_blocks.csv')"
   ]
  },
  {
   "cell_type": "code",
   "execution_count": 8,
   "metadata": {},
   "outputs": [],
   "source": [
    "tank_number = re.findall('.+(?=.$)', tin_blocks_df['200 ms'][0])[0]\n",
    "tank_number_letter = tin_blocks_df['200 ms'][0]\n",
    "OurData = re.findall('(?<=^.).*', tin_blocks_df['200 ms.1'][0])[0]\n",
    "location = tin_blocks_df['location'][0]"
   ]
  },
  {
   "cell_type": "code",
   "execution_count": 22,
   "metadata": {},
   "outputs": [],
   "source": [
    "paths_list = []\n",
    "\n",
    "for index, row in tin_blocks_df.iterrows():\n",
    "\n",
    "    tank_number = re.findall('.+(?=.$)', row['200 ms'])[0]\n",
    "    tank_number_letter = row['200 ms']\n",
    "    OurData = re.findall('(?<=^.).*', row['200 ms.1'])[0]\n",
    "    location = row['location']\n",
    "\n",
    "    if re.findall('(.)$', row['200 ms'])[0] == 'a':\n",
    "        row_path = f\"Z:/Alpha data/Neurobehavior/{location}/ex{tank_number}/{tank_number_letter}/{OurData}\"\n",
    "\n",
    "    elif re.findall('(.)$', row['200 ms'])[0] == 'b':\n",
    "        row_path = f\"Z:/Bravo data/Neurobehavior/{location}/ex{tank_number}/{tank_number_letter}/{OurData}\"\n",
    "\n",
    "    paths_list.append(row_path)"
   ]
  },
  {
   "cell_type": "code",
   "execution_count": 27,
   "metadata": {},
   "outputs": [],
   "source": [
    "paths_list = pd.DataFrame(paths_list)\n",
    "paths_list.to_csv('../data/tin_paths_list.csv', header=False)"
   ]
  }
 ],
 "metadata": {
  "kernelspec": {
   "display_name": "base",
   "language": "python",
   "name": "python3"
  },
  "language_info": {
   "codemirror_mode": {
    "name": "ipython",
    "version": 3
   },
   "file_extension": ".py",
   "mimetype": "text/x-python",
   "name": "python",
   "nbconvert_exporter": "python",
   "pygments_lexer": "ipython3",
   "version": "3.9.12"
  },
  "orig_nbformat": 4,
  "vscode": {
   "interpreter": {
    "hash": "08210294964727e4010dccc398c44f22b92a2e77e2aceea574ad21eae77cd8e8"
   }
  }
 },
 "nbformat": 4,
 "nbformat_minor": 2
}
