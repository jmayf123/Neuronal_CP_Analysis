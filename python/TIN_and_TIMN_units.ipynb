{
 "cells": [
  {
   "cell_type": "code",
   "execution_count": 1,
   "metadata": {},
   "outputs": [],
   "source": [
    "import pandas as pd\n",
    "import re\n",
    "import csv"
   ]
  },
  {
   "cell_type": "code",
   "execution_count": 2,
   "metadata": {},
   "outputs": [],
   "source": [
    "tin_blocks_df = pd.read_csv('../data/tin_blocks.csv')\n",
    "timn_blocks_df = pd.read_csv('../data/timn_blocks.csv')"
   ]
  },
  {
   "cell_type": "code",
   "execution_count": 3,
   "metadata": {},
   "outputs": [],
   "source": [
    "#TIN\n",
    "tank_number = re.findall('.+(?=.$)', tin_blocks_df['200 ms'][0])[0]\n",
    "tank_number_letter = tin_blocks_df['200 ms'][0]\n",
    "OurData = re.findall('(?<=^.).*', tin_blocks_df['200 ms.1'][0])[0]\n",
    "location = tin_blocks_df['location'][0]"
   ]
  },
  {
   "cell_type": "code",
   "execution_count": 4,
   "metadata": {},
   "outputs": [],
   "source": [
    "#TIMMN\n",
    "tank_number_2 = re.findall('.+(?=.$)', timn_blocks_df['Tank'][0])[0]\n",
    "tank_number_letter_2 = timn_blocks_df['Tank'][0]\n",
    "OurData_2 = re.findall('(?<=^.).*', timn_blocks_df['Block'][0])[0]\n",
    "location_2 = timn_blocks_df['Location'][0]"
   ]
  },
  {
   "cell_type": "code",
   "execution_count": 5,
   "metadata": {},
   "outputs": [],
   "source": [
    "paths_list_TIN = []\n",
    "tank_number_letter_TIN = []\n",
    "\n",
    "for index, row in tin_blocks_df.iterrows():\n",
    "\n",
    "    tank_number = re.findall('\\d+', row['200 ms'])[0]\n",
    "    tank_number_letter = row['200 ms']\n",
    "    OurData = re.findall('(?<=^.).*', row['200 ms.1'])[0]\n",
    "    location = row['location']\n",
    "\n",
    "    if re.findall('(.)$', row['200 ms'])[0] == 'a':\n",
    "        row_path = f\"Z:/Alpha data/Neurobehavior/{location}/ex{tank_number}/{tank_number_letter}/{OurData}\"\n",
    "\n",
    "    elif re.findall('(.)$', row['200 ms'])[0] == 'b':\n",
    "        row_path = f\"Z:/Bravo data/Neurobehavior/{location}/ex{tank_number}/{tank_number_letter}/{OurData}\"\n",
    "\n",
    "    paths_list_TIN.append(row_path)\n",
    "    tank_number_letter_TIN.append(tank_number_letter)"
   ]
  },
  {
   "cell_type": "code",
   "execution_count": 6,
   "metadata": {},
   "outputs": [],
   "source": [
    "paths_list_TIMN = []\n",
    "tank_number_letter_TIMN = []\n",
    "\n",
    "for index, row in timn_blocks_df.iterrows():\n",
    "\n",
    "    tank_number_2 = re.findall('.+(?=.$)', row['Tank'])[0]\n",
    "    tank_number_letter_2 = row['Tank']\n",
    "    OurData_2 = re.findall('(?<=^.).*', row['Block'])[0]\n",
    "    location_2 = row['Location']\n",
    "\n",
    "    if re.findall('(.)$', row['Tank'])[0] == 'a':\n",
    "        row_path = f\"Z:/Alpha data/Neurobehavior/{location_2}/ex{tank_number_2}/{tank_number_letter_2}/{OurData_2}\"\n",
    "\n",
    "    elif re.findall('(.)$', row['Tank'])[0] == 'b':\n",
    "        row_path = f\"Z:/Bravo data/Neurobehavior/{location_2}/ex{tank_number_2}/{tank_number_letter_2}/{OurData_2}\"\n",
    "\n",
    "    paths_list_TIMN.append(row_path)\n",
    "    tank_number_letter_TIMN.append(tank_number_letter_2)"
   ]
  },
  {
   "cell_type": "code",
   "execution_count": 7,
   "metadata": {},
   "outputs": [],
   "source": [
    "df_1 = pd.DataFrame(data = {'path_TIN' :paths_list_TIN, 'tank_number_letter' : tank_number_letter_TIN})\n",
    "df_2 = pd.DataFrame(data = {'path_TIMN' :paths_list_TIMN, 'tank_number_letter' : tank_number_letter_TIMN})"
   ]
  },
  {
   "cell_type": "code",
   "execution_count": 8,
   "metadata": {},
   "outputs": [],
   "source": [
    "both_df = ((df_1.merge(right = df_2, \n",
    "                     how = 'inner',\n",
    "                     on = 'tank_number_letter'))\n",
    "            .drop_duplicates(subset=['tank_number_letter']))"
   ]
  },
  {
   "attachments": {},
   "cell_type": "markdown",
   "metadata": {},
   "source": [
    "These are days that have data for both TIN and TIMN experiments"
   ]
  },
  {
   "cell_type": "code",
   "execution_count": 9,
   "metadata": {},
   "outputs": [],
   "source": [
    "# .reset_index(drop=True).drop([26])\n",
    "# .reset_index(drop=True).drop([39])"
   ]
  },
  {
   "cell_type": "code",
   "execution_count": 10,
   "metadata": {},
   "outputs": [],
   "source": [
    "path_list_TIN_IC = list((both_df['path_TIN'].iloc[0:36])) #Dropped the blocks that coused matlab code crash\n",
    "path_list_TIN_CN = list((both_df['path_TIN'].iloc[36:]))\n",
    "path_list_TIMN_IC = list(both_df['path_TIMN'].iloc[0:36])\n",
    "path_list_TIMN_CN = list(both_df['path_TIMN'].iloc[36:])\n"
   ]
  },
  {
   "cell_type": "code",
   "execution_count": 11,
   "metadata": {},
   "outputs": [],
   "source": [
    "with open('../data/scatter_paths/TIMN_vs_TIN/paths_TIN_IC.csv', 'w', newline='') as csvfile:\n",
    "    writer = csv.writer(csvfile)\n",
    "    writer.writerow(path_list_TIN_IC)"
   ]
  },
  {
   "cell_type": "code",
   "execution_count": 12,
   "metadata": {},
   "outputs": [],
   "source": [
    "with open('../data/scatter_paths/TIMN_vs_TIN/paths_TIN_CN.csv', 'w', newline='') as csvfile:\n",
    "    writer = csv.writer(csvfile)\n",
    "    writer.writerow(path_list_TIN_CN)"
   ]
  },
  {
   "cell_type": "code",
   "execution_count": 13,
   "metadata": {},
   "outputs": [],
   "source": [
    "with open('../data/scatter_paths/TIMN_vs_TIN/paths_TIMN_IC.csv', 'w', newline='') as csvfile:\n",
    "    writer = csv.writer(csvfile)\n",
    "    writer.writerow(path_list_TIMN_IC)"
   ]
  },
  {
   "cell_type": "code",
   "execution_count": 14,
   "metadata": {},
   "outputs": [],
   "source": [
    "with open('../data/scatter_paths/TIMN_vs_TIN/paths_TIMN_CN.csv', 'w', newline='') as csvfile:\n",
    "    writer = csv.writer(csvfile)\n",
    "    writer.writerow(path_list_TIMN_CN)"
   ]
  },
  {
   "attachments": {},
   "cell_type": "markdown",
   "metadata": {},
   "source": [
    "Now we need the CP's for all of these units. "
   ]
  },
  {
   "cell_type": "code",
   "execution_count": null,
   "metadata": {},
   "outputs": [],
   "source": []
  }
 ],
 "metadata": {
  "kernelspec": {
   "display_name": "base",
   "language": "python",
   "name": "python3"
  },
  "language_info": {
   "codemirror_mode": {
    "name": "ipython",
    "version": 3
   },
   "file_extension": ".py",
   "mimetype": "text/x-python",
   "name": "python",
   "nbconvert_exporter": "python",
   "pygments_lexer": "ipython3",
   "version": "3.9.12"
  },
  "orig_nbformat": 4,
  "vscode": {
   "interpreter": {
    "hash": "08210294964727e4010dccc398c44f22b92a2e77e2aceea574ad21eae77cd8e8"
   }
  }
 },
 "nbformat": 4,
 "nbformat_minor": 2
}
