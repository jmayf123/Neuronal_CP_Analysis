{
 "cells": [
  {
   "cell_type": "code",
   "execution_count": 56,
   "metadata": {},
   "outputs": [],
   "source": [
    "import pandas as pd\n",
    "import re\n",
    "import csv"
   ]
  },
  {
   "cell_type": "code",
   "execution_count": 57,
   "metadata": {},
   "outputs": [],
   "source": [
    "tin_blocks_df = pd.read_csv('../data/tin_blocks.csv')\n",
    "tiq_blocks_df = pd.read_csv('../data/tiq_blocks.csv')"
   ]
  },
  {
   "cell_type": "code",
   "execution_count": 58,
   "metadata": {},
   "outputs": [],
   "source": [
    "tank_number = re.findall('.+(?=.$)', tin_blocks_df['200 ms'][0])[0]\n",
    "tank_number_letter = tin_blocks_df['200 ms'][0]\n",
    "OurData = re.findall('(?<=^.).*', tin_blocks_df['200 ms.1'][0])[0]\n",
    "location = tin_blocks_df['location'][0]"
   ]
  },
  {
   "cell_type": "code",
   "execution_count": 59,
   "metadata": {},
   "outputs": [],
   "source": [
    "paths_list_TIN = []\n",
    "tank_number_letter_TIN = []\n",
    "\n",
    "for index, row in tin_blocks_df.iterrows():\n",
    "\n",
    "    tank_number = re.findall('\\d+', row['200 ms'])[0]\n",
    "    tank_number_letter = row['200 ms']\n",
    "    OurData = re.findall('(?<=^.).*', row['200 ms.1'])[0]\n",
    "    location = row['location']\n",
    "\n",
    "    if re.findall('(.)$', row['200 ms'])[0] == 'a':\n",
    "        row_path = f\"Z:/Alpha data/Neurobehavior/{location}/ex{tank_number}/{tank_number_letter}/{OurData}\"\n",
    "\n",
    "    elif re.findall('(.)$', row['200 ms'])[0] == 'b':\n",
    "        row_path = f\"Z:/Bravo data/Neurobehavior/{location}/ex{tank_number}/{tank_number_letter}/{OurData}\"\n",
    "\n",
    "    paths_list_TIN.append(row_path)\n",
    "    tank_number_letter_TIN.append(tank_number_letter)"
   ]
  },
  {
   "cell_type": "code",
   "execution_count": 60,
   "metadata": {},
   "outputs": [],
   "source": [
    "paths_list_TIQ = []\n",
    "tank_number_letter_TIQ = []\n",
    "\n",
    "for index, row in tiq_blocks_df.iterrows():\n",
    "\n",
    "    tank_number = re.findall('\\d+', row['200 ms'])[0]\n",
    "    tank_number_letter = row['200 ms']\n",
    "    OurData = re.findall('(?<=^.).*', row['200 ms.1'])[0]\n",
    "    location = row['location']\n",
    "\n",
    "    if re.findall('(.)$', row['200 ms'])[0] == 'a':\n",
    "        row_path = f\"Z:/Alpha data/Neurobehavior/{location}/ex{tank_number}/{tank_number_letter}/{OurData}\"\n",
    "\n",
    "    elif re.findall('(.)$', row['200 ms'])[0] == 'b':\n",
    "        row_path = f\"Z:/Bravo data/Neurobehavior/{location}/ex{tank_number}/{tank_number_letter}/{OurData}\"\n",
    "\n",
    "    paths_list_TIQ.append(row_path)\n",
    "    tank_number_letter_TIQ.append(tank_number_letter)"
   ]
  },
  {
   "cell_type": "code",
   "execution_count": 61,
   "metadata": {},
   "outputs": [],
   "source": [
    "df_1 = pd.DataFrame(data = {'path_TIN' :paths_list_TIN, 'tank_number_letter' : tank_number_letter_TIN})\n",
    "df_2 = pd.DataFrame(data = {'path_TIQ' :paths_list_TIQ, 'tank_number_letter' : tank_number_letter_TIQ})"
   ]
  },
  {
   "cell_type": "code",
   "execution_count": 62,
   "metadata": {},
   "outputs": [],
   "source": [
    "both_df = ((df_1.merge(right = df_2, \n",
    "                     how = 'inner',\n",
    "                     on = 'tank_number_letter'))\n",
    "            .drop_duplicates(subset=['tank_number_letter']))"
   ]
  },
  {
   "attachments": {},
   "cell_type": "markdown",
   "metadata": {},
   "source": [
    "These are days that have data for both TIN and TIQ experiments"
   ]
  },
  {
   "cell_type": "code",
   "execution_count": 63,
   "metadata": {},
   "outputs": [],
   "source": [
    "path_list_TIN_IC = list(both_df['path_TIN'].iloc[0:57])\n",
    "path_list_TIN_CN = list(both_df['path_TIN'].iloc[57:])\n",
    "path_list_TIQ_IC = list(both_df['path_TIQ'].iloc[0:57])\n",
    "path_list_TIQ_CN = list(both_df['path_TIQ'].iloc[57:])\n"
   ]
  },
  {
   "cell_type": "code",
   "execution_count": 64,
   "metadata": {},
   "outputs": [],
   "source": [
    "with open('../data/scatter_paths/paths_TIN_IC.csv', 'w', newline='') as csvfile:\n",
    "    writer = csv.writer(csvfile)\n",
    "    writer.writerow(path_list_TIN_IC)"
   ]
  },
  {
   "cell_type": "code",
   "execution_count": 65,
   "metadata": {},
   "outputs": [],
   "source": [
    "with open('../data/scatter_paths/paths_TIN_CN.csv', 'w', newline='') as csvfile:\n",
    "    writer = csv.writer(csvfile)\n",
    "    writer.writerow(path_list_TIN_CN)"
   ]
  },
  {
   "cell_type": "code",
   "execution_count": 66,
   "metadata": {},
   "outputs": [],
   "source": [
    "with open('../data/scatter_paths/paths_TIQ_IC.csv', 'w', newline='') as csvfile:\n",
    "    writer = csv.writer(csvfile)\n",
    "    writer.writerow(path_list_TIQ_IC)"
   ]
  },
  {
   "cell_type": "code",
   "execution_count": 67,
   "metadata": {},
   "outputs": [],
   "source": [
    "with open('../data/scatter_paths/paths_TIQ_CN.csv', 'w', newline='') as csvfile:\n",
    "    writer = csv.writer(csvfile)\n",
    "    writer.writerow(path_list_TIQ_CN)"
   ]
  },
  {
   "attachments": {},
   "cell_type": "markdown",
   "metadata": {},
   "source": [
    "Now we need the CP's for all of these units. "
   ]
  },
  {
   "cell_type": "code",
   "execution_count": null,
   "metadata": {},
   "outputs": [],
   "source": []
  }
 ],
 "metadata": {
  "kernelspec": {
   "display_name": "base",
   "language": "python",
   "name": "python3"
  },
  "language_info": {
   "codemirror_mode": {
    "name": "ipython",
    "version": 3
   },
   "file_extension": ".py",
   "mimetype": "text/x-python",
   "name": "python",
   "nbconvert_exporter": "python",
   "pygments_lexer": "ipython3",
   "version": "3.9.12"
  },
  "orig_nbformat": 4,
  "vscode": {
   "interpreter": {
    "hash": "08210294964727e4010dccc398c44f22b92a2e77e2aceea574ad21eae77cd8e8"
   }
  }
 },
 "nbformat": 4,
 "nbformat_minor": 2
}
