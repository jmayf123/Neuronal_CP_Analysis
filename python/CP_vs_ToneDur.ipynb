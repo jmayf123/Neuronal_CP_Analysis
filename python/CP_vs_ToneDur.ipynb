{
 "cells": [
  {
   "cell_type": "code",
   "execution_count": 1,
   "metadata": {},
   "outputs": [],
   "source": [
    "import pandas as pd\n",
    "import scipy as sp\n",
    "import numpy as np\n",
    "import seaborn as sns"
   ]
  },
  {
   "attachments": {},
   "cell_type": "markdown",
   "metadata": {},
   "source": [
    "Let get the mean CP values over all units in the IC and CN for each tone duration. We also need to split units into eithier an increasing or decreasing group for plotting. "
   ]
  },
  {
   "cell_type": "code",
   "execution_count": 2,
   "metadata": {},
   "outputs": [],
   "source": [
    "CP_data_1 = sp.io.loadmat('../TIN_CP_data/1-46_CP_data.mat')\n",
    "CP_data_2 = sp.io.loadmat('../TIN_CP_data/51-100_CP_data.mat')\n",
    "CP_data_3 = sp.io.loadmat('../TIN_CP_data/101-166_CP_data.mat')\n",
    "CP_data_4 = sp.io.loadmat('../TIN_CP_data/168-178_CP_data.mat')"
   ]
  },
  {
   "cell_type": "code",
   "execution_count": 3,
   "metadata": {},
   "outputs": [],
   "source": [
    "Grand_CP_1 = CP_data_1.get('Grand_CP')\n",
    "Grand_CP_2 = CP_data_2.get('Grand_CP')\n",
    "Grand_CP_3 = CP_data_3.get('Grand_CP')\n",
    "Grand_CP_4 = CP_data_4.get('Grand_CP')"
   ]
  },
  {
   "cell_type": "code",
   "execution_count": 4,
   "metadata": {},
   "outputs": [],
   "source": [
    "p_values_1 = CP_data_1.get('p_values')\n",
    "p_values_2 = CP_data_2.get('p_values')\n",
    "p_values_3 = CP_data_3.get('p_values')\n",
    "p_values_4 = CP_data_4.get('p_values')\n"
   ]
  },
  {
   "cell_type": "code",
   "execution_count": 5,
   "metadata": {},
   "outputs": [],
   "source": [
    "# Initial Split and concat grand cp values into seperate IC and CN df's\n",
    "# column 16 (index 15) is the 200 ms condition \n",
    "# Group 1 -- 1- 46 is all IC ,  \n",
    "# Group 2 --  51 - 100 is all IC , \n",
    "# Group 3 --  101-166 is first 2 IC and the rest CN,\n",
    "# Group 4 --  168-178 is all CN\n",
    "IC_Grand_CP = np.concatenate((Grand_CP_1,\n",
    "                              Grand_CP_2,\n",
    "                              Grand_CP_3[0:2,:]), axis=0)\n",
    "CN_Grand_CP = np.concatenate((Grand_CP_3[2:, :],\n",
    "                              Grand_CP_4), axis=0)"
   ]
  },
  {
   "cell_type": "code",
   "execution_count": 6,
   "metadata": {},
   "outputs": [],
   "source": [
    "IC_p_values = np.concatenate((p_values_1,\n",
    "                              p_values_2,\n",
    "                              p_values_3[0:2,:]), axis=0)\n",
    "CN_p_values = np.concatenate((p_values_3[2:, :],\n",
    "                              p_values_4), axis=0)"
   ]
  },
  {
   "cell_type": "code",
   "execution_count": 7,
   "metadata": {},
   "outputs": [],
   "source": [
    "def matlab_cleaner(matlab_cell):\n",
    "    value_list = []\n",
    "    for col in range(0, len(matlab_cell[0,:])):\n",
    "\n",
    "        col_list = []\n",
    "        for row in range(0,len(matlab_cell[:,col])):\n",
    "            if (type(matlab_cell[:,col][row][0]) == np.ndarray) & (len(matlab_cell[:,col][row][0]) > 0):\n",
    "                value = matlab_cell[:,col][row][0,0]   \n",
    "            else:\n",
    "                value = matlab_cell[:,col][row][0]\n",
    "\n",
    "            col_list.append(value)\n",
    "            \n",
    "        value_list.insert(col, col_list)\n",
    "    return(value_list)"
   ]
  },
  {
   "cell_type": "code",
   "execution_count": 8,
   "metadata": {},
   "outputs": [],
   "source": [
    "IC_CP_value_list = matlab_cleaner(IC_Grand_CP)\n",
    "CN_CP_value_list = matlab_cleaner(CN_Grand_CP)"
   ]
  },
  {
   "attachments": {},
   "cell_type": "markdown",
   "metadata": {},
   "source": [
    "filter out units that dont have significance, ie are > .001"
   ]
  },
  {
   "cell_type": "code",
   "execution_count": 9,
   "metadata": {},
   "outputs": [],
   "source": [
    "IC_p_values_list = matlab_cleaner(IC_p_values)\n",
    "CN_p_values_list = matlab_cleaner(CN_p_values)"
   ]
  },
  {
   "cell_type": "code",
   "execution_count": 10,
   "metadata": {},
   "outputs": [
    {
     "name": "stderr",
     "output_type": "stream",
     "text": [
      "c:\\Users\\jacks\\anaconda3\\lib\\site-packages\\pandas\\core\\missing.py:95: FutureWarning: elementwise comparison failed; returning scalar instead, but in the future will perform elementwise comparison\n",
      "  new_mask = arr == x\n"
     ]
    }
   ],
   "source": [
    "IC_p_values_df = pd.DataFrame(IC_p_values_list).replace(to_replace='NA', value=np.nan)\n",
    "CN_p_values_df = pd.DataFrame(CN_p_values_list).replace(to_replace='NA', value=np.nan)\n",
    "\n",
    "IC_df = pd.DataFrame(IC_CP_value_list).replace(to_replace='NA', value=np.nan)\n",
    "CN_df = pd.DataFrame(CN_CP_value_list).replace(to_replace='NA', value=np.nan)"
   ]
  },
  {
   "cell_type": "code",
   "execution_count": 11,
   "metadata": {},
   "outputs": [],
   "source": [
    "IC_df = IC_df[IC_p_values_df < .1].dropna(axis=1, how='all')\n",
    "CN_df = CN_df[CN_p_values_df < .1].dropna(axis=1, how='all')"
   ]
  },
  {
   "cell_type": "code",
   "execution_count": 12,
   "metadata": {},
   "outputs": [],
   "source": [
    "#Exlcude the 12.5, 25, 37.5 durations from the analysis. the first 3 rows\n",
    "#Add first row for 0 duration, all columns = 0.5 \n",
    "IC_df = IC_df.loc[3:]\n",
    "new_row_IC = pd.DataFrame([[0.5]*len(IC_df.columns)], columns=IC_df.columns)\n",
    "IC_df = pd.concat([new_row_IC, IC_df]).reset_index(drop=True)\n",
    "\n",
    "CN_df = CN_df.loc[3:]\n",
    "new_row_CN = pd.DataFrame([[0.5]*len(CN_df.columns)], columns=CN_df.columns)\n",
    "CN_df = pd.concat([new_row_CN, CN_df]).reset_index(drop=True)"
   ]
  },
  {
   "cell_type": "code",
   "execution_count": 16,
   "metadata": {},
   "outputs": [],
   "source": [
    "# Now split the IC and CN into increasing or decreasing units(columns) and then take the means of each tone (rows)\n",
    "\n",
    "def unit_splitter(df):\n",
    "\n",
    "    moreidx = [col for col in df.columns if df[col].iloc[13] > 0.5]\n",
    "    lessidx = [col for col in df.columns if df[col].iloc[13] < 0.5]\n",
    "\n",
    "    # Create new dataframes with increasing and decreasing columns\n",
    "    df_increasing = df[moreidx]\n",
    "    df_decreasing = df[lessidx]\n",
    "\n",
    "    return df_increasing, df_decreasing"
   ]
  },
  {
   "cell_type": "code",
   "execution_count": 17,
   "metadata": {},
   "outputs": [],
   "source": [
    "# Now split the IC and CN into increasing or decreasing units(columns) and then take the means of each tone (rows)\n",
    "IC_df_increasing, IC_df_decreasing = unit_splitter(IC_df)\n",
    "CN_df_increasing, CN_df_decreasing = unit_splitter(CN_df)\n"
   ]
  },
  {
   "cell_type": "code",
   "execution_count": 18,
   "metadata": {},
   "outputs": [],
   "source": [
    "from scipy import stats\n",
    "import matplotlib.pyplot as plt"
   ]
  },
  {
   "cell_type": "code",
   "execution_count": 19,
   "metadata": {},
   "outputs": [],
   "source": [
    "IC_inc_yvals = IC_df_increasing.mean(axis=1, numeric_only=True)\n",
    "IC_inc_SE = stats.sem(IC_df_increasing, axis=1)\n",
    "\n",
    "IC_dec_yvals = IC_df_decreasing.mean(axis=1, numeric_only=True)\n",
    "IC_dec_SE = stats.sem(IC_df_decreasing, axis=1)\n",
    "\n",
    "CN_inc_yvals = CN_df_increasing.mean(axis=1, numeric_only=True)\n",
    "CN_inc_SE = stats.sem(CN_df_increasing, axis=1)\n",
    "\n",
    "CN_dec_yvals = CN_df_decreasing.mean(axis=1, numeric_only=True)\n",
    "CN_dec_SE = stats.sem(CN_df_decreasing, axis=1)"
   ]
  },
  {
   "cell_type": "code",
   "execution_count": 20,
   "metadata": {},
   "outputs": [],
   "source": [
    "arr = np.arange(0,212.5, 12.5)\n",
    "arr = arr[(arr < 12.5) | (arr > 37.5)]\n",
    "\n",
    "tone_levels = pd.DataFrame(arr)"
   ]
  },
  {
   "cell_type": "code",
   "execution_count": 21,
   "metadata": {},
   "outputs": [],
   "source": [
    "IC_graph_data = pd.concat([tone_levels, IC_inc_yvals, IC_dec_yvals], axis=1)\n",
    "IC_graph_data.columns = ['tone_levels','Increasing', 'Decreasing']\n",
    "IC_graph_data = IC_graph_data.set_index('tone_levels')"
   ]
  },
  {
   "cell_type": "code",
   "execution_count": 22,
   "metadata": {},
   "outputs": [],
   "source": [
    "CN_graph_data = pd.concat([tone_levels, CN_inc_yvals, CN_dec_yvals], axis=1)\n",
    "CN_graph_data.columns = ['tone_levels','Increasing', 'Decreasing']\n",
    "CN_graph_data = CN_graph_data.set_index('tone_levels')"
   ]
  },
  {
   "cell_type": "code",
   "execution_count": 23,
   "metadata": {},
   "outputs": [
    {
     "data": {
      "image/png": "[encoded data removed]",
      "text/plain": [
       "<Figure size 750x300 with 2 Axes>"
      ]
     },
     "metadata": {},
     "output_type": "display_data"
    }
   ],
   "source": [
    "# 2 graphs IC, CN - both have increasing and decreasing mean lines with +-SE lines around them\n",
    "\n",
    "plt.rcParams[\"figure.figsize\"] = [7.50, 3.0]\n",
    "plt.rcParams[\"figure.autolayout\"] = True\n",
    "\n",
    "fig, axes = plt.subplots(1, 2)\n",
    "axes[0].set_xlim([0,200])\n",
    "axes[0].set_ylim([0,.7])\n",
    "axes[0].set_xlabel('Time (ms)')\n",
    "axes[0].set_ylabel('Detect Probablity')\n",
    "axes[1].set_xlim([0,200])\n",
    "axes[1].set_ylim([0,.7])\n",
    "axes[1].set_xlabel('Time (ms)')\n",
    "axes[1].set_ylabel('Detect Probablity')\n",
    "\n",
    "# IC Lines\n",
    "axes[0].set_title('IC')\n",
    "sns.lineplot(ax = axes[0],\n",
    "             data = IC_graph_data\n",
    "            )\n",
    "\n",
    "\n",
    "\n",
    "# CN Histogram\n",
    "axes[1].set_title('CN')\n",
    "sns.lineplot(ax = axes[1],\n",
    "             data = CN_graph_data\n",
    "            )\n",
    "\n",
    "plt.show()  "
   ]
  }
 ],
 "metadata": {
  "kernelspec": {
   "display_name": "base",
   "language": "python",
   "name": "python3"
  },
  "language_info": {
   "codemirror_mode": {
    "name": "ipython",
    "version": 3
   },
   "file_extension": ".py",
   "mimetype": "text/x-python",
   "name": "python",
   "nbconvert_exporter": "python",
   "pygments_lexer": "ipython3",
   "version": "3.9.12"
  },
  "orig_nbformat": 4
 },
 "nbformat": 4,
 "nbformat_minor": 2
}
