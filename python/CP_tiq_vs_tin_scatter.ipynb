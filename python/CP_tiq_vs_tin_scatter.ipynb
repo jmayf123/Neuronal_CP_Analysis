{
 "cells": [
  {
   "cell_type": "code",
   "execution_count": 1,
   "metadata": {},
   "outputs": [],
   "source": [
    "import matplotlib.pyplot as plt\n",
    "import pandas as pd\n",
    "import numpy as np\n",
    "import seaborn as sns\n",
    "import scipy as sp\n"
   ]
  },
  {
   "cell_type": "code",
   "execution_count": 2,
   "metadata": {},
   "outputs": [],
   "source": [
    "# All the Tone in Noise blocks \n",
    "TIN_data_1 = sp.io.loadmat('../TIN_CP_data/1-46_CP_data.mat')\n",
    "TIN_data_2 = sp.io.loadmat('../TIN_CP_data/51-100_CP_data.mat')\n",
    "TIN_data_3 = sp.io.loadmat('../TIN_CP_data/101-166_CP_data.mat')\n",
    "TIN_data_4 = sp.io.loadmat('../TIN_CP_data/168-178_CP_data.mat')"
   ]
  },
  {
   "cell_type": "code",
   "execution_count": 3,
   "metadata": {},
   "outputs": [],
   "source": [
    "# All the Tone in Quiet blocks\n",
    "TIQ_data_1 = sp.io.loadmat('../TIQ_CP_data/Alpha_Grand_CPs.mat')\n",
    "TIQ_data_2 = sp.io.loadmat('../TIQ_CP_data/Bravo_Grand_CPs.mat')\n",
    "TIQ_data_3 = sp.io.loadmat('../TIQ_CP_data/Charlie_Grand_CPs.mat')\n",
    "TIQ_data_4 = sp.io.loadmat('../TIQ_CP_data/Delta_Grand_CPs.mat')"
   ]
  },
  {
   "cell_type": "code",
   "execution_count": 7,
   "metadata": {},
   "outputs": [
    {
     "data": {
      "text/plain": [
       "dict_keys(['__header__', '__version__', '__globals__', 'Grand_CP'])"
      ]
     },
     "execution_count": 7,
     "metadata": {},
     "output_type": "execute_result"
    }
   ],
   "source": [
    "TIQ_data_2.keys()"
   ]
  },
  {
   "cell_type": "code",
   "execution_count": 4,
   "metadata": {},
   "outputs": [],
   "source": [
    "TIN_Grand_CP_1 = TIN_data_1.get('Grand_CP')\n",
    "TIN_Grand_CP_2 = TIN_data_2.get('Grand_CP')\n",
    "TIN_Grand_CP_3 = TIN_data_3.get('Grand_CP')\n",
    "TIN_Grand_CP_4 = TIN_data_4.get('Grand_CP')"
   ]
  },
  {
   "cell_type": "code",
   "execution_count": 5,
   "metadata": {},
   "outputs": [],
   "source": [
    "TIQ_Grand_CP_1 = TIQ_data_1.get('Grand_CP')\n",
    "TIQ_Grand_CP_2 = TIQ_data_2.get('Grand_CP')\n",
    "TIQ_Grand_CP_3 = TIQ_data_3.get('Grand_CP')\n",
    "TIQ_Grand_CP_4 = TIQ_data_4.get('Grand_CP')"
   ]
  },
  {
   "cell_type": "code",
   "execution_count": 13,
   "metadata": {},
   "outputs": [],
   "source": [
    "# Initial Split and concat grand cp values into seperate IC and CN df's\n",
    "# TIN Data\n",
    "# column 16 (index 15) is the 200 ms condition \n",
    "# Group 1 -- 1- 46 is all IC ,  \n",
    "# Group 2 --  51 - 100 is all IC , \n",
    "# Group 3 --  101-166 is first 2 IC and the rest CN,\n",
    "# Group 4 --  168-178 is all CN\n",
    "TIN_IC_Grand_CP = np.concatenate((TIN_Grand_CP_1,\n",
    "                                  TIN_Grand_CP_2,\n",
    "                                  TIN_Grand_CP_3[:2,:]), axis=0)\n",
    "\n",
    "TIN_CN_Grand_CP = np.concatenate((TIN_Grand_CP_3[2:,:],\n",
    "                                  TIN_Grand_CP_4), axis=0)"
   ]
  },
  {
   "cell_type": "code",
   "execution_count": 14,
   "metadata": {},
   "outputs": [],
   "source": [
    "# TIQ Data\n",
    "# Alpha -- 1-35 IC , 36-46 CN\n",
    "# Bravo -- 1-35 IC , 36-58 CN\n",
    "# Charlie -- All IC\n",
    "# Delta -- 1-20 IC , 21-31 CN\n",
    "\n",
    "TIQ_IC_Grand_CP = np.concatenate((TIQ_Grand_CP_1[:35,:],\n",
    "                                  TIQ_Grand_CP_2[:35,:],\n",
    "                                  TIQ_Grand_CP_3,\n",
    "                                  TIQ_Grand_CP_4[:20,:]), axis = 0)\n",
    "\n",
    "TIQ_CN_Grand_CP = np.concatenate((TIQ_Grand_CP_1[35:,:],\n",
    "                                  TIQ_Grand_CP_2[35:,:],\n",
    "                                  TIQ_Grand_CP_4[20:,:]), axis = 0)"
   ]
  },
  {
   "cell_type": "code",
   "execution_count": 15,
   "metadata": {},
   "outputs": [],
   "source": [
    "# ---- TIN Data \n",
    "# IC \n",
    "TIN_IC_value_list = []\n",
    "for col in range(0, len(TIN_IC_Grand_CP[0,:])):\n",
    "\n",
    "    col_list = []\n",
    "    for row in range(0,len(TIN_IC_Grand_CP[:,col])):\n",
    "        if (type(TIN_IC_Grand_CP[:,col][row][0]) == np.ndarray) & (len(TIN_IC_Grand_CP[:,col][row][0]) > 0):\n",
    "            value = TIN_IC_Grand_CP[:,col][row][0,0]   \n",
    "        else:\n",
    "            value = TIN_IC_Grand_CP[:,col][row][0]\n",
    "\n",
    "        col_list.append(value)\n",
    "        \n",
    "    TIN_IC_value_list.insert(col, col_list)\n",
    "\n",
    "# CN\n",
    "TIN_CN_value_list = []\n",
    "for col in range(0, len(TIN_CN_Grand_CP[0,:])):\n",
    "\n",
    "    col_list = []\n",
    "    for row in range(0,len(TIN_CN_Grand_CP[:,col])):\n",
    "        if (type(TIN_CN_Grand_CP[:,col][row][0]) == np.ndarray) & (len(TIN_CN_Grand_CP[:,col][row][0]) > 0):\n",
    "            value = TIN_CN_Grand_CP[:,col][row][0,0]   \n",
    "        else:\n",
    "            value = TIN_CN_Grand_CP[:,col][row][0]\n",
    "\n",
    "        col_list.append(value)\n",
    "        \n",
    "    TIN_CN_value_list.insert(col, col_list)    "
   ]
  },
  {
   "cell_type": "code",
   "execution_count": 16,
   "metadata": {},
   "outputs": [],
   "source": [
    "# ---- TIQ Data \n",
    "# IC \n",
    "TIQ_IC_value_list = []\n",
    "for col in range(0, len(TIQ_IC_Grand_CP[0,:])):\n",
    "\n",
    "    col_list = []\n",
    "    for row in range(0,len(TIQ_IC_Grand_CP[:,col])):\n",
    "        if (type(TIQ_IC_Grand_CP[:,col][row][0]) == np.ndarray) & (len(TIQ_IC_Grand_CP[:,col][row][0]) > 0):\n",
    "            value = TIQ_IC_Grand_CP[:,col][row][0,0]   \n",
    "        else:\n",
    "            value = TIQ_IC_Grand_CP[:,col][row][0]\n",
    "\n",
    "        col_list.append(value)\n",
    "        \n",
    "    TIQ_IC_value_list.insert(col, col_list)\n",
    "\n",
    "# CN\n",
    "TIQ_CN_value_list = []\n",
    "for col in range(0, len(TIQ_CN_Grand_CP[0,:])):\n",
    "\n",
    "    col_list = []\n",
    "    for row in range(0,len(TIQ_CN_Grand_CP[:,col])):\n",
    "        if (type(TIQ_CN_Grand_CP[:,col][row][0]) == np.ndarray) & (len(TIQ_CN_Grand_CP[:,col][row][0]) > 0):\n",
    "            value = TIQ_CN_Grand_CP[:,col][row][0,0]   \n",
    "        else:\n",
    "            value = TIQ_CN_Grand_CP[:,col][row][0]\n",
    "\n",
    "        col_list.append(value)\n",
    "        \n",
    "    TIQ_CN_value_list.insert(col, col_list)    "
   ]
  },
  {
   "cell_type": "code",
   "execution_count": 17,
   "metadata": {},
   "outputs": [
    {
     "name": "stderr",
     "output_type": "stream",
     "text": [
      "c:\\Users\\jacks\\anaconda3\\lib\\site-packages\\pandas\\core\\missing.py:95: FutureWarning: elementwise comparison failed; returning scalar instead, but in the future will perform elementwise comparison\n",
      "  new_mask = arr == x\n"
     ]
    }
   ],
   "source": [
    "TIN_IC_df = pd.DataFrame(TIN_IC_value_list).replace(to_replace='NA', value=np.nan)\n",
    "TIN_CN_df = pd.DataFrame(TIN_CN_value_list).replace(to_replace='NA', value=np.nan)\n",
    "\n",
    "TIQ_IC_df = pd.DataFrame(TIQ_IC_value_list).replace(to_replace='NA', value=np.nan)\n",
    "TIQ_CN_df = pd.DataFrame(TIQ_CN_value_list).replace(to_replace='NA', value=np.nan)"
   ]
  },
  {
   "attachments": {},
   "cell_type": "markdown",
   "metadata": {},
   "source": [
    "Now we have 4 DFs that correspond to :\n",
    "1. Tone in Noise IC\n",
    "2. Tone in Noise CN\n",
    "3. Tone in Quiet IC\n",
    "4. Tone in Quiet CN\n",
    "\n",
    "These all have columns corresponding to Neural Units and rows corresponding to the increasing tone durations that unit was tested at. From  12.5 to 200 ms"
   ]
  },
  {
   "attachments": {},
   "cell_type": "markdown",
   "metadata": {},
   "source": [
    "WE have to average over each time duration(row) and match up the corresponding Noise and Quiet DP for that duration.  "
   ]
  },
  {
   "cell_type": "code",
   "execution_count": 44,
   "metadata": {},
   "outputs": [],
   "source": [
    "IC_graph_data = pd.DataFrame(data = {'noise': TIN_IC_df.iloc[15,:], \n",
    "                                     'quiet': TIQ_IC_df.iloc[15,:]} ).dropna().reset_index()\n",
    "\n",
    "CN_graph_data = pd.DataFrame(data = {'noise': TIN_CN_df.iloc[15,:], \n",
    "                                     'quiet': TIQ_CN_df.iloc[15,:]} ).dropna().reset_index()"
   ]
  },
  {
   "cell_type": "code",
   "execution_count": 61,
   "metadata": {},
   "outputs": [
    {
     "data": {
      "text/plain": [
       "0     0.471619\n",
       "1     0.466469\n",
       "2     0.480859\n",
       "3     0.475172\n",
       "4     0.484008\n",
       "5     0.482603\n",
       "6     0.479583\n",
       "7     0.480795\n",
       "8     0.484087\n",
       "9     0.478796\n",
       "10    0.484912\n",
       "11    0.486538\n",
       "12    0.483766\n",
       "13    0.485989\n",
       "14    0.489531\n",
       "15    0.484174\n",
       "dtype: float64"
      ]
     },
     "execution_count": 61,
     "metadata": {},
     "output_type": "execute_result"
    }
   ],
   "source": [
    "TIQ_IC_df.mean(axis=1)"
   ]
  },
  {
   "cell_type": "code",
   "execution_count": 45,
   "metadata": {},
   "outputs": [
    {
     "ename": "TypeError",
     "evalue": "unhashable type: 'numpy.ndarray'",
     "output_type": "error",
     "traceback": [
      "\u001b[1;31m---------------------------------------------------------------------------\u001b[0m",
      "\u001b[1;31mAttributeError\u001b[0m                            Traceback (most recent call last)",
      "File \u001b[1;32mc:\\Users\\jacks\\anaconda3\\lib\\site-packages\\seaborn\\_core.py:1479\u001b[0m, in \u001b[0;36mcategorical_order\u001b[1;34m(vector, order)\u001b[0m\n\u001b[0;32m   1478\u001b[0m \u001b[39mtry\u001b[39;00m:\n\u001b[1;32m-> 1479\u001b[0m     order \u001b[39m=\u001b[39m vector\u001b[39m.\u001b[39;49mcat\u001b[39m.\u001b[39mcategories\n\u001b[0;32m   1480\u001b[0m \u001b[39mexcept\u001b[39;00m (\u001b[39mTypeError\u001b[39;00m, \u001b[39mAttributeError\u001b[39;00m):\n",
      "File \u001b[1;32mc:\\Users\\jacks\\anaconda3\\lib\\site-packages\\pandas\\core\\generic.py:5575\u001b[0m, in \u001b[0;36mNDFrame.__getattr__\u001b[1;34m(self, name)\u001b[0m\n\u001b[0;32m   5574\u001b[0m     \u001b[39mreturn\u001b[39;00m \u001b[39mself\u001b[39m[name]\n\u001b[1;32m-> 5575\u001b[0m \u001b[39mreturn\u001b[39;00m \u001b[39mobject\u001b[39;49m\u001b[39m.\u001b[39;49m\u001b[39m__getattribute__\u001b[39;49m(\u001b[39mself\u001b[39;49m, name)\n",
      "File \u001b[1;32mc:\\Users\\jacks\\anaconda3\\lib\\site-packages\\pandas\\core\\accessor.py:182\u001b[0m, in \u001b[0;36mCachedAccessor.__get__\u001b[1;34m(self, obj, cls)\u001b[0m\n\u001b[0;32m    181\u001b[0m     \u001b[39mreturn\u001b[39;00m \u001b[39mself\u001b[39m\u001b[39m.\u001b[39m_accessor\n\u001b[1;32m--> 182\u001b[0m accessor_obj \u001b[39m=\u001b[39m \u001b[39mself\u001b[39;49m\u001b[39m.\u001b[39;49m_accessor(obj)\n\u001b[0;32m    183\u001b[0m \u001b[39m# Replace the property with the accessor object. Inspired by:\u001b[39;00m\n\u001b[0;32m    184\u001b[0m \u001b[39m# https://www.pydanny.com/cached-property.html\u001b[39;00m\n\u001b[0;32m    185\u001b[0m \u001b[39m# We need to use object.__setattr__ because we overwrite __setattr__ on\u001b[39;00m\n\u001b[0;32m    186\u001b[0m \u001b[39m# NDFrame\u001b[39;00m\n",
      "File \u001b[1;32mc:\\Users\\jacks\\anaconda3\\lib\\site-packages\\pandas\\core\\arrays\\categorical.py:2717\u001b[0m, in \u001b[0;36mCategoricalAccessor.__init__\u001b[1;34m(self, data)\u001b[0m\n\u001b[0;32m   2716\u001b[0m \u001b[39mdef\u001b[39;00m \u001b[39m__init__\u001b[39m(\u001b[39mself\u001b[39m, data):\n\u001b[1;32m-> 2717\u001b[0m     \u001b[39mself\u001b[39;49m\u001b[39m.\u001b[39;49m_validate(data)\n\u001b[0;32m   2718\u001b[0m     \u001b[39mself\u001b[39m\u001b[39m.\u001b[39m_parent \u001b[39m=\u001b[39m data\u001b[39m.\u001b[39mvalues\n",
      "File \u001b[1;32mc:\\Users\\jacks\\anaconda3\\lib\\site-packages\\pandas\\core\\arrays\\categorical.py:2726\u001b[0m, in \u001b[0;36mCategoricalAccessor._validate\u001b[1;34m(data)\u001b[0m\n\u001b[0;32m   2725\u001b[0m \u001b[39mif\u001b[39;00m \u001b[39mnot\u001b[39;00m is_categorical_dtype(data\u001b[39m.\u001b[39mdtype):\n\u001b[1;32m-> 2726\u001b[0m     \u001b[39mraise\u001b[39;00m \u001b[39mAttributeError\u001b[39;00m(\u001b[39m\"\u001b[39m\u001b[39mCan only use .cat accessor with a \u001b[39m\u001b[39m'\u001b[39m\u001b[39mcategory\u001b[39m\u001b[39m'\u001b[39m\u001b[39m dtype\u001b[39m\u001b[39m\"\u001b[39m)\n",
      "\u001b[1;31mAttributeError\u001b[0m: Can only use .cat accessor with a 'category' dtype",
      "\nDuring handling of the above exception, another exception occurred:\n",
      "\u001b[1;31mTypeError\u001b[0m                                 Traceback (most recent call last)",
      "Cell \u001b[1;32mIn[45], line 16\u001b[0m\n\u001b[0;32m     14\u001b[0m \u001b[39m# IC Lines\u001b[39;00m\n\u001b[0;32m     15\u001b[0m axes[\u001b[39m0\u001b[39m]\u001b[39m.\u001b[39mset_title(\u001b[39m'\u001b[39m\u001b[39mIC\u001b[39m\u001b[39m'\u001b[39m)\n\u001b[1;32m---> 16\u001b[0m sns\u001b[39m.\u001b[39;49mscatterplot(ax \u001b[39m=\u001b[39;49m axes[\u001b[39m0\u001b[39;49m],\n\u001b[0;32m     17\u001b[0m                 data \u001b[39m=\u001b[39;49m IC_graph_data,\n\u001b[0;32m     18\u001b[0m                 x \u001b[39m=\u001b[39;49m \u001b[39m'\u001b[39;49m\u001b[39mnoise\u001b[39;49m\u001b[39m'\u001b[39;49m,\n\u001b[0;32m     19\u001b[0m                 y \u001b[39m=\u001b[39;49m \u001b[39m'\u001b[39;49m\u001b[39mquiet\u001b[39;49m\u001b[39m'\u001b[39;49m\n\u001b[0;32m     20\u001b[0m             )\n\u001b[0;32m     22\u001b[0m \u001b[39m# CN Histogram\u001b[39;00m\n\u001b[0;32m     23\u001b[0m axes[\u001b[39m1\u001b[39m]\u001b[39m.\u001b[39mset_title(\u001b[39m'\u001b[39m\u001b[39mCN\u001b[39m\u001b[39m'\u001b[39m)\n",
      "File \u001b[1;32mc:\\Users\\jacks\\anaconda3\\lib\\site-packages\\seaborn\\_decorators.py:46\u001b[0m, in \u001b[0;36m_deprecate_positional_args.<locals>.inner_f\u001b[1;34m(*args, **kwargs)\u001b[0m\n\u001b[0;32m     36\u001b[0m     warnings\u001b[39m.\u001b[39mwarn(\n\u001b[0;32m     37\u001b[0m         \u001b[39m\"\u001b[39m\u001b[39mPass the following variable\u001b[39m\u001b[39m{}\u001b[39;00m\u001b[39m as \u001b[39m\u001b[39m{}\u001b[39;00m\u001b[39mkeyword arg\u001b[39m\u001b[39m{}\u001b[39;00m\u001b[39m: \u001b[39m\u001b[39m{}\u001b[39;00m\u001b[39m. \u001b[39m\u001b[39m\"\u001b[39m\n\u001b[0;32m     38\u001b[0m         \u001b[39m\"\u001b[39m\u001b[39mFrom version 0.12, the only valid positional argument \u001b[39m\u001b[39m\"\u001b[39m\n\u001b[1;32m   (...)\u001b[0m\n\u001b[0;32m     43\u001b[0m         \u001b[39mFutureWarning\u001b[39;00m\n\u001b[0;32m     44\u001b[0m     )\n\u001b[0;32m     45\u001b[0m kwargs\u001b[39m.\u001b[39mupdate({k: arg \u001b[39mfor\u001b[39;00m k, arg \u001b[39min\u001b[39;00m \u001b[39mzip\u001b[39m(sig\u001b[39m.\u001b[39mparameters, args)})\n\u001b[1;32m---> 46\u001b[0m \u001b[39mreturn\u001b[39;00m f(\u001b[39m*\u001b[39m\u001b[39m*\u001b[39mkwargs)\n",
      "File \u001b[1;32mc:\\Users\\jacks\\anaconda3\\lib\\site-packages\\seaborn\\relational.py:825\u001b[0m, in \u001b[0;36mscatterplot\u001b[1;34m(x, y, hue, style, size, data, palette, hue_order, hue_norm, sizes, size_order, size_norm, markers, style_order, x_bins, y_bins, units, estimator, ci, n_boot, alpha, x_jitter, y_jitter, legend, ax, **kwargs)\u001b[0m\n\u001b[0;32m    822\u001b[0m \u001b[39mif\u001b[39;00m \u001b[39mnot\u001b[39;00m p\u001b[39m.\u001b[39mhas_xy_data:\n\u001b[0;32m    823\u001b[0m     \u001b[39mreturn\u001b[39;00m ax\n\u001b[1;32m--> 825\u001b[0m p\u001b[39m.\u001b[39;49m_attach(ax)\n\u001b[0;32m    827\u001b[0m p\u001b[39m.\u001b[39mplot(ax, kwargs)\n\u001b[0;32m    829\u001b[0m \u001b[39mreturn\u001b[39;00m ax\n",
      "File \u001b[1;32mc:\\Users\\jacks\\anaconda3\\lib\\site-packages\\seaborn\\_core.py:1137\u001b[0m, in \u001b[0;36mVectorPlotter._attach\u001b[1;34m(self, obj, allowed_types, log_scale)\u001b[0m\n\u001b[0;32m   1135\u001b[0m         seed_data \u001b[39m=\u001b[39m \u001b[39mself\u001b[39m\u001b[39m.\u001b[39mplot_data[var]\n\u001b[0;32m   1136\u001b[0m         \u001b[39mif\u001b[39;00m var_type \u001b[39m==\u001b[39m \u001b[39m\"\u001b[39m\u001b[39mcategorical\u001b[39m\u001b[39m\"\u001b[39m:\n\u001b[1;32m-> 1137\u001b[0m             seed_data \u001b[39m=\u001b[39m categorical_order(seed_data)\n\u001b[0;32m   1138\u001b[0m         axis\u001b[39m.\u001b[39mupdate_units(seed_data)\n\u001b[0;32m   1140\u001b[0m \u001b[39m# For categorical y, we want the \"first\" level to be at the top of the axis\u001b[39;00m\n",
      "File \u001b[1;32mc:\\Users\\jacks\\anaconda3\\lib\\site-packages\\seaborn\\_core.py:1483\u001b[0m, in \u001b[0;36mcategorical_order\u001b[1;34m(vector, order)\u001b[0m\n\u001b[0;32m   1480\u001b[0m \u001b[39mexcept\u001b[39;00m (\u001b[39mTypeError\u001b[39;00m, \u001b[39mAttributeError\u001b[39;00m):\n\u001b[0;32m   1482\u001b[0m     \u001b[39mtry\u001b[39;00m:\n\u001b[1;32m-> 1483\u001b[0m         order \u001b[39m=\u001b[39m vector\u001b[39m.\u001b[39;49munique()\n\u001b[0;32m   1484\u001b[0m     \u001b[39mexcept\u001b[39;00m \u001b[39mAttributeError\u001b[39;00m:\n\u001b[0;32m   1485\u001b[0m         order \u001b[39m=\u001b[39m pd\u001b[39m.\u001b[39munique(vector)\n",
      "File \u001b[1;32mc:\\Users\\jacks\\anaconda3\\lib\\site-packages\\pandas\\core\\series.py:2088\u001b[0m, in \u001b[0;36mSeries.unique\u001b[1;34m(self)\u001b[0m\n\u001b[0;32m   2030\u001b[0m \u001b[39mdef\u001b[39;00m \u001b[39munique\u001b[39m(\u001b[39mself\u001b[39m) \u001b[39m-\u001b[39m\u001b[39m>\u001b[39m ArrayLike:\n\u001b[0;32m   2031\u001b[0m     \u001b[39m\"\"\"\u001b[39;00m\n\u001b[0;32m   2032\u001b[0m \u001b[39m    Return unique values of Series object.\u001b[39;00m\n\u001b[0;32m   2033\u001b[0m \n\u001b[1;32m   (...)\u001b[0m\n\u001b[0;32m   2086\u001b[0m \u001b[39m    Categories (3, object): ['a' < 'b' < 'c']\u001b[39;00m\n\u001b[0;32m   2087\u001b[0m \u001b[39m    \"\"\"\u001b[39;00m\n\u001b[1;32m-> 2088\u001b[0m     \u001b[39mreturn\u001b[39;00m \u001b[39msuper\u001b[39;49m()\u001b[39m.\u001b[39;49munique()\n",
      "File \u001b[1;32mc:\\Users\\jacks\\anaconda3\\lib\\site-packages\\pandas\\core\\base.py:989\u001b[0m, in \u001b[0;36mIndexOpsMixin.unique\u001b[1;34m(self)\u001b[0m\n\u001b[0;32m    987\u001b[0m             result \u001b[39m=\u001b[39m np\u001b[39m.\u001b[39masarray(result)\n\u001b[0;32m    988\u001b[0m \u001b[39melse\u001b[39;00m:\n\u001b[1;32m--> 989\u001b[0m     result \u001b[39m=\u001b[39m unique1d(values)\n\u001b[0;32m    991\u001b[0m \u001b[39mreturn\u001b[39;00m result\n",
      "File \u001b[1;32mc:\\Users\\jacks\\anaconda3\\lib\\site-packages\\pandas\\core\\algorithms.py:440\u001b[0m, in \u001b[0;36munique\u001b[1;34m(values)\u001b[0m\n\u001b[0;32m    437\u001b[0m htable, values \u001b[39m=\u001b[39m _get_hashtable_algo(values)\n\u001b[0;32m    439\u001b[0m table \u001b[39m=\u001b[39m htable(\u001b[39mlen\u001b[39m(values))\n\u001b[1;32m--> 440\u001b[0m uniques \u001b[39m=\u001b[39m table\u001b[39m.\u001b[39;49munique(values)\n\u001b[0;32m    441\u001b[0m uniques \u001b[39m=\u001b[39m _reconstruct_data(uniques, original\u001b[39m.\u001b[39mdtype, original)\n\u001b[0;32m    442\u001b[0m \u001b[39mreturn\u001b[39;00m uniques\n",
      "File \u001b[1;32mpandas\\_libs\\hashtable_class_helper.pxi:5361\u001b[0m, in \u001b[0;36mpandas._libs.hashtable.PyObjectHashTable.unique\u001b[1;34m()\u001b[0m\n",
      "File \u001b[1;32mpandas\\_libs\\hashtable_class_helper.pxi:5310\u001b[0m, in \u001b[0;36mpandas._libs.hashtable.PyObjectHashTable._unique\u001b[1;34m()\u001b[0m\n",
      "\u001b[1;31mTypeError\u001b[0m: unhashable type: 'numpy.ndarray'"
     ]
    },
    {
     "data": {
      "image/png": "[encoded data removed]",
      "text/plain": [
       "<Figure size 750x350 with 2 Axes>"
      ]
     },
     "metadata": {},
     "output_type": "display_data"
    }
   ],
   "source": [
    "plt.rcParams[\"figure.figsize\"] = [7.50, 3.50]\n",
    "plt.rcParams[\"figure.autolayout\"] = True\n",
    "\n",
    "fig, axes = plt.subplots(1, 2)\n",
    "# axes[0].set_xlim([0,200])\n",
    "# axes[0].set_ylim([0,1])\n",
    "axes[0].set_xlabel('Tone In Noise DP')\n",
    "axes[0].set_ylabel('Tone In Quiet DP')\n",
    "# axes[1].set_xlim([0,200])\n",
    "# axes[1].set_ylim([0,1])\n",
    "axes[1].set_xlabel('Tone In Noise DP')\n",
    "axes[1].set_ylabel('Tone In Quiet DP')\n",
    "\n",
    "# IC Lines\n",
    "axes[0].set_title('IC')\n",
    "sns.scatterplot(ax = axes[0],\n",
    "                data = IC_graph_data,\n",
    "                x = 'noise',\n",
    "                y = 'quiet'\n",
    "            )\n",
    "\n",
    "# CN Histogram\n",
    "axes[1].set_title('CN')\n",
    "sns.scatterplot(ax = axes[1],\n",
    "                data = CN_graph_data,\n",
    "                x = 'noise',\n",
    "                y = 'quiet'\n",
    "            )\n",
    "\n",
    "plt.show()  "
   ]
  }
 ],
 "metadata": {
  "kernelspec": {
   "display_name": "base",
   "language": "python",
   "name": "python3"
  },
  "language_info": {
   "codemirror_mode": {
    "name": "ipython",
    "version": 3
   },
   "file_extension": ".py",
   "mimetype": "text/x-python",
   "name": "python",
   "nbconvert_exporter": "python",
   "pygments_lexer": "ipython3",
   "version": "3.9.12"
  },
  "orig_nbformat": 4
 },
 "nbformat": 4,
 "nbformat_minor": 2
}
