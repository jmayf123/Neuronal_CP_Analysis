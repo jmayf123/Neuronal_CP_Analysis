{
 "cells": [
  {
   "cell_type": "code",
   "execution_count": 2,
   "metadata": {},
   "outputs": [],
   "source": [
    "import matplotlib.pyplot as plt\n",
    "import pandas as pd\n",
    "import numpy as np\n",
    "import seaborn as sns\n",
    "import scipy as sp\n"
   ]
  },
  {
   "cell_type": "code",
   "execution_count": 3,
   "metadata": {},
   "outputs": [],
   "source": [
    "# All the Tone in Noise blocks \n",
    "TIN_IC = pd.read_csv('../data/scatter_paths/TIN_IC_Grand_CP.csv', header=None)\n",
    "TIN_CN = pd.read_csv('../data/scatter_paths/TIN_CN_Grand_CP.csv')"
   ]
  },
  {
   "cell_type": "code",
   "execution_count": 4,
   "metadata": {},
   "outputs": [],
   "source": [
    "# All the Tone in Quiet blocks\n",
    "TIQ_IC = (pd.read_csv('../data/scatter_paths/TIQ_IC_Grand_CP.csv')).drop([26])\n",
    "TIQ_CN = (pd.read_csv('../data/scatter_paths/TIQ_CN_Grand_CP.csv')).drop([39])"
   ]
  },
  {
   "attachments": {},
   "cell_type": "markdown",
   "metadata": {},
   "source": [
    "Now we have 4 DFs that correspond to 200 ms duration in:\n",
    "1. Tone in Noise IC\n",
    "2. Tone in Noise CN\n",
    "3. Tone in Quiet IC\n",
    "4. Tone in Quiet CN\n"
   ]
  },
  {
   "cell_type": "code",
   "execution_count": 6,
   "metadata": {},
   "outputs": [],
   "source": [
    "IC_graph_data = pd.DataFrame(data = {'noise': list(TIN_IC[0]), \n",
    "                                     'quiet': list(TIQ_IC['Grand_CP'])} ).dropna().reset_index()\n",
    "\n",
    "CN_graph_data = pd.DataFrame(data = {'noise': list(TIN_CN['Grand_CP']), \n",
    "                                     'quiet': list(TIQ_CN['Grand_CP'])} ).dropna().reset_index()"
   ]
  },
  {
   "cell_type": "code",
   "execution_count": 7,
   "metadata": {},
   "outputs": [
    {
     "data": {
      "image/png": "[encoded data removed]",
      "text/plain": [
       "<Figure size 750x350 with 2 Axes>"
      ]
     },
     "metadata": {},
     "output_type": "display_data"
    }
   ],
   "source": [
    "plt.rcParams[\"figure.figsize\"] = [7.50, 3.50]\n",
    "plt.rcParams[\"figure.autolayout\"] = True\n",
    "\n",
    "fig, axes = plt.subplots(1, 2)\n",
    "axes[0].set_xlim([0.5,1])\n",
    "axes[0].set_ylim([0.5,1])\n",
    "axes[0].set_xlabel('Tone In Noise DP')\n",
    "axes[0].set_ylabel('Tone In Quiet DP')\n",
    "axes[1].set_xlim([0.5,1])\n",
    "axes[1].set_ylim([0.5,1])\n",
    "axes[1].set_xlabel('Tone In Noise DP')\n",
    "axes[1].set_ylabel('Tone In Quiet DP')\n",
    "\n",
    "# IC Lines\n",
    "axes[0].set_title('IC')\n",
    "sns.scatterplot(ax = axes[0],\n",
    "                data = IC_graph_data,\n",
    "                x = 'noise',\n",
    "                y = 'quiet'\n",
    "            )\n",
    "\n",
    "# CN Histogram\n",
    "axes[1].set_title('CN')\n",
    "sns.scatterplot(ax = axes[1],\n",
    "                data = CN_graph_data,\n",
    "                x = 'noise',\n",
    "                y = 'quiet'\n",
    "            )\n",
    "\n",
    "plt.show()  "
   ]
  }
 ],
 "metadata": {
  "kernelspec": {
   "display_name": "base",
   "language": "python",
   "name": "python3"
  },
  "language_info": {
   "codemirror_mode": {
    "name": "ipython",
    "version": 3
   },
   "file_extension": ".py",
   "mimetype": "text/x-python",
   "name": "python",
   "nbconvert_exporter": "python",
   "pygments_lexer": "ipython3",
   "version": "3.9.12"
  },
  "orig_nbformat": 4
 },
 "nbformat": 4,
 "nbformat_minor": 2
}
